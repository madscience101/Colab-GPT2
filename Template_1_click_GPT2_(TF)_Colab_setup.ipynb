{
  "nbformat": 4,
  "nbformat_minor": 0,
  "metadata": {
    "colab": {
      "name": "Template 1-click GPT2 (TF) Colab setup.ipynb",
      "version": "0.3.2",
      "provenance": [],
      "collapsed_sections": [],
      "include_colab_link": true
    },
    "kernelspec": {
      "name": "python3",
      "display_name": "Python 3"
    },
    "accelerator": "GPU"
  },
  "cells": [
    {
      "cell_type": "markdown",
      "metadata": {
        "id": "view-in-github",
        "colab_type": "text"
      },
      "source": [
        "<a href=\"https://colab.research.google.com/github/madscience101/Colab-GPT2/blob/master/Template_1_click_GPT2_(TF)_Colab_setup.ipynb\" target=\"_parent\"><img src=\"https://colab.research.google.com/assets/colab-badge.svg\" alt=\"Open In Colab\"/></a>"
      ]
    },
    {
      "metadata": {
        "id": "lPYACTVWukuY",
        "colab_type": "text"
      },
      "cell_type": "markdown",
      "source": [
        "**THIS is a notebook to install EVERYTHING from scratch and just be creative.**\n"
      ]
    },
    {
      "metadata": {
        "id": "fDokNACOmjJn",
        "colab_type": "text"
      },
      "cell_type": "markdown",
      "source": [
        "# Setup"
      ]
    },
    {
      "metadata": {
        "id": "Atmp5NbVx6wL",
        "colab_type": "text"
      },
      "cell_type": "markdown",
      "source": [
        "## Load the model and dependencies"
      ]
    },
    {
      "metadata": {
        "id": "5u94ID0hxXOi",
        "colab_type": "code",
        "colab": {}
      },
      "cell_type": "code",
      "source": [
        "!git clone https://github.com/nshepperd/gpt-2.git\n",
        "import os\n",
        "os.chdir('gpt-2')\n",
        "!pip3 install -r requirements.txt\n",
        "!python3 download_model.py 117M"
      ],
      "execution_count": 0,
      "outputs": []
    },
    {
      "metadata": {
        "id": "KPLMIgl_yFfr",
        "colab_type": "text"
      },
      "cell_type": "markdown",
      "source": [
        "## Upload additional data if needed"
      ]
    },
    {
      "metadata": {
        "id": "0_Tzp2djyEUz",
        "colab_type": "code",
        "colab": {}
      },
      "cell_type": "code",
      "source": [
        "from google.colab import files\n",
        "files.upload()"
      ],
      "execution_count": 0,
      "outputs": []
    },
    {
      "metadata": {
        "id": "R9eS_abPmm5H",
        "colab_type": "text"
      },
      "cell_type": "markdown",
      "source": [
        "\n",
        "\n",
        "---\n",
        "\n"
      ]
    },
    {
      "metadata": {
        "id": "OHRHLBoQmt1K",
        "colab_type": "text"
      },
      "cell_type": "markdown",
      "source": [
        "# Text generation"
      ]
    },
    {
      "metadata": {
        "id": "2G-5quRFyAsa",
        "colab_type": "text"
      },
      "cell_type": "markdown",
      "source": [
        "## Generation with a prompt"
      ]
    },
    {
      "metadata": {
        "id": "13-AE178yCN1",
        "colab_type": "code",
        "colab": {}
      },
      "cell_type": "code",
      "source": [
        "!python3 src/interactive_conditional_samples.py --nsamples=3 --temperature=1 --top_k=50 --length=300 --seed=42 "
      ],
      "execution_count": 0,
      "outputs": []
    },
    {
      "metadata": {
        "id": "3ySqyljlzPl_",
        "colab_type": "code",
        "colab": {}
      },
      "cell_type": "code",
      "source": [
        "!python3 src/interactive_conditional_samples.py --nsamples=3 --temperature=0.8 --top_k=10 --seed=42"
      ],
      "execution_count": 0,
      "outputs": []
    },
    {
      "metadata": {
        "id": "kkHIN_iBzRmr",
        "colab_type": "code",
        "colab": {}
      },
      "cell_type": "code",
      "source": [
        "!python3 src/interactive_conditional_samples.py --nsamples=3 --temperature=1 --top_k=5 --seed=42"
      ],
      "execution_count": 0,
      "outputs": []
    },
    {
      "metadata": {
        "id": "fy0WiiHlm-H2",
        "colab_type": "text"
      },
      "cell_type": "markdown",
      "source": [
        "##  Unprompted generation"
      ]
    },
    {
      "metadata": {
        "id": "k_JzhWJ3m4_i",
        "colab_type": "code",
        "colab": {}
      },
      "cell_type": "code",
      "source": [
        "python3 src/generate_unconditional_samples.py --nsamples=3 --length=400"
      ],
      "execution_count": 0,
      "outputs": []
    }
  ]
}