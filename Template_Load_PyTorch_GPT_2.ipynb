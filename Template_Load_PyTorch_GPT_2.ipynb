{
  "nbformat": 4,
  "nbformat_minor": 0,
  "metadata": {
    "colab": {
      "name": "Template - Load PyTorch GPT-2.ipynb",
      "version": "0.3.2",
      "provenance": [],
      "collapsed_sections": [
        "iQWM7eUCKWbf"
      ],
      "include_colab_link": true
    },
    "kernelspec": {
      "name": "python3",
      "display_name": "Python 3"
    },
    "accelerator": "GPU"
  },
  "cells": [
    {
      "cell_type": "markdown",
      "metadata": {
        "id": "view-in-github",
        "colab_type": "text"
      },
      "source": [
        "<a href=\"https://colab.research.google.com/github/madscience101/Colab-GPT2/blob/master/Template_Load_PyTorch_GPT_2.ipynb\" target=\"_parent\"><img src=\"https://colab.research.google.com/assets/colab-badge.svg\" alt=\"Open In Colab\"/></a>"
      ]
    },
    {
      "metadata": {
        "id": "gFMcqsUS8ee2",
        "colab_type": "text"
      },
      "cell_type": "markdown",
      "source": [
        "# Install and download"
      ]
    },
    {
      "metadata": {
        "id": "to6gPkqsKRva",
        "colab_type": "text"
      },
      "cell_type": "markdown",
      "source": [
        "## Install the library"
      ]
    },
    {
      "metadata": {
        "id": "LMKNeOkO8Kj-",
        "colab_type": "code",
        "colab": {}
      },
      "cell_type": "code",
      "source": [
        "!pip3 install pytorch-pretrained-bert"
      ],
      "execution_count": 0,
      "outputs": []
    },
    {
      "metadata": {
        "id": "iQWM7eUCKWbf",
        "colab_type": "text"
      },
      "cell_type": "markdown",
      "source": [
        "## Download the model"
      ]
    },
    {
      "metadata": {
        "id": "I_imBBHVKJ-Y",
        "colab_type": "code",
        "colab": {}
      },
      "cell_type": "code",
      "source": [
        "from pytorch_pretrained_bert import GPT2Tokenizer,GPT2LMHeadModel\n",
        "\n",
        "tokenizer = GPT2Tokenizer.from_pretrained('gpt2')\n",
        "model = GPT2LMHeadModel.from_pretrained('gpt2')"
      ],
      "execution_count": 0,
      "outputs": []
    },
    {
      "metadata": {
        "id": "l4WrzMPKNKkJ",
        "colab_type": "text"
      },
      "cell_type": "markdown",
      "source": [
        "# Generate text using a ready-made script"
      ]
    },
    {
      "metadata": {
        "id": "mw2-9WuENd5S",
        "colab_type": "text"
      },
      "cell_type": "markdown",
      "source": [
        "**Download the script**"
      ]
    },
    {
      "metadata": {
        "id": "CLq62szJNRAq",
        "colab_type": "code",
        "colab": {}
      },
      "cell_type": "code",
      "source": [
        "## Download the script\n",
        "!wget https://raw.githubusercontent.com/huggingface/pytorch-pretrained-BERT/master/examples/run_gpt2.py"
      ],
      "execution_count": 0,
      "outputs": []
    },
    {
      "metadata": {
        "id": "-oM3Fz_qNgrJ",
        "colab_type": "text"
      },
      "cell_type": "markdown",
      "source": [
        "**Use the script to generate text**"
      ]
    },
    {
      "metadata": {
        "id": "6h0avx77NRKN",
        "colab_type": "code",
        "colab": {}
      },
      "cell_type": "code",
      "source": [
        "!python3 run_gpt2.py --seed=42 --nsamples=3 --top_k=40 --length=100"
      ],
      "execution_count": 0,
      "outputs": []
    },
    {
      "metadata": {
        "id": "e4eIIt-eK2oC",
        "colab_type": "text"
      },
      "cell_type": "markdown",
      "source": [
        "# Workspace"
      ]
    },
    {
      "metadata": {
        "id": "6vTMgYB7LKev",
        "colab_type": "text"
      },
      "cell_type": "markdown",
      "source": [
        "## Imports"
      ]
    },
    {
      "metadata": {
        "id": "2XmAnLyKQ5ng",
        "colab_type": "code",
        "colab": {}
      },
      "cell_type": "code",
      "source": [
        "!export PYTHONIOENCODING=UTF-8"
      ],
      "execution_count": 0,
      "outputs": []
    },
    {
      "metadata": {
        "id": "5UZ9eFAvKphK",
        "colab_type": "code",
        "colab": {}
      },
      "cell_type": "code",
      "source": [
        "import torch\n",
        "from torch.autograd import Variable\n",
        "import torch.nn.functional as F\n",
        "\n",
        "from pytorch_pretrained_bert import GPT2LMHeadModel, GPT2Tokenizer, GPT2Model\n",
        "\n",
        "import logging\n",
        "\n",
        "import argparse\n",
        "import logging\n",
        "from tqdm import trange\n",
        "\n",
        "import numpy as np\n",
        "from collections import Counter"
      ],
      "execution_count": 0,
      "outputs": []
    },
    {
      "metadata": {
        "id": "-7HjwlC_LrJV",
        "colab_type": "text"
      },
      "cell_type": "markdown",
      "source": [
        "## Initialise the model (and use GPU, if available)"
      ]
    },
    {
      "metadata": {
        "id": "EAX6LPuRLj6B",
        "colab_type": "code",
        "colab": {}
      },
      "cell_type": "code",
      "source": [
        "device = torch.device(\"cuda\" if torch.cuda.is_available() else \"cpu\")\n",
        "\n",
        "enc = GPT2Tokenizer.from_pretrained('gpt2')\n",
        "model = GPT2LMHeadModel.from_pretrained('gpt2')\n",
        "model.to(device)"
      ],
      "execution_count": 0,
      "outputs": []
    },
    {
      "metadata": {
        "id": "vJFwFMGCMRZ5",
        "colab_type": "text"
      },
      "cell_type": "markdown",
      "source": [
        "## Use the model\n",
        "(based on code from [the script](https://github.com/huggingface/pytorch-pretrained-BERT/blob/master/examples/run_gpt2.py) )\n",
        "\n"
      ]
    },
    {
      "metadata": {
        "id": "qhHYU_KqOuiu",
        "colab_type": "text"
      },
      "cell_type": "markdown",
      "source": [
        "**Encode the prompt line**"
      ]
    },
    {
      "metadata": {
        "id": "YC7MQD9ZMQcs",
        "colab_type": "code",
        "colab": {}
      },
      "cell_type": "code",
      "source": [
        "raw_text = \"In the beginning the Universe was created. This has made a lot of people very angry\""
      ],
      "execution_count": 0,
      "outputs": []
    },
    {
      "metadata": {
        "id": "UpGD4kwPMHE1",
        "colab_type": "code",
        "colab": {}
      },
      "cell_type": "code",
      "source": [
        "context_tokens = enc.encode(raw_text)\n",
        "context = torch.tensor(context_tokens, device=device, dtype=torch.long).unsqueeze(0).repeat(batch_size, 1)"
      ],
      "execution_count": 0,
      "outputs": []
    },
    {
      "metadata": {
        "id": "rYmcTKzPPnGN",
        "colab_type": "text"
      },
      "cell_type": "markdown",
      "source": [
        "**Run the model**"
      ]
    },
    {
      "metadata": {
        "id": "ZcVoe21jPmFI",
        "colab_type": "code",
        "colab": {}
      },
      "cell_type": "code",
      "source": [
        "with torch.no_grad():\n",
        "    logits, past = model(context)"
      ],
      "execution_count": 0,
      "outputs": []
    },
    {
      "metadata": {
        "id": "BWSfXYeAP1LI",
        "colab_type": "code",
        "colab": {}
      },
      "cell_type": "code",
      "source": [
        ""
      ],
      "execution_count": 0,
      "outputs": []
    }
  ]
}